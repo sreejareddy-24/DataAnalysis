{
 "cells": [
  {
   "cell_type": "markdown",
   "id": "d2bab3c1",
   "metadata": {},
   "source": [
    "# Pandas – Data Analysis Library\n",
    "\n",
    "# 1. Why Learn Pandas?\n",
    "What is it?\n",
    "Pandas is a Python library for data manipulation and analysis. It provides Series (1D) and DataFrames (2D tabular data).\n",
    "\n",
    "# Why we need it?\n",
    "1.Simplifies data cleaning, exploration, and manipulation.\n",
    "2.Handles large datasets efficiently.\n",
    "3.Built on top of NumPy for fast computations.\n",
    " \n",
    "# Where is it used?\n",
    "1.Data Analysis & Reporting\n",
    "2.Machine Learning (preprocessing datasets)\n",
    "3.Finance, Healthcare, Marketing data analysis\n",
    "4.CSV/Excel/SQL data handling\n",
    " "
   ]
  },
  {
   "cell_type": "code",
   "execution_count": 3,
   "id": "4cf52bc3",
   "metadata": {},
   "outputs": [],
   "source": [
    "import pandas as pd \n"
   ]
  },
  {
   "cell_type": "code",
   "execution_count": 5,
   "id": "e5227ed8",
   "metadata": {},
   "outputs": [
    {
     "name": "stdout",
     "output_type": "stream",
     "text": [
      "Series:\n",
      " 0    10\n",
      "1    20\n",
      "2    30\n",
      "3    40\n",
      "dtype: int64\n",
      "\n",
      "DataFrame:\n",
      "       Name  Age\n",
      "0    Alice   25\n",
      "1      Bob   30\n",
      "2  Charlie   35\n"
     ]
    }
   ],
   "source": [
    "# 3.Series & DataFrames\n",
    "s = pd.Series([10, 20, 30, 40]) \n",
    "print(\"Series:\\n\", s) \n",
    "# DataFrame from dict \n",
    "data = {'Name': ['Alice','Bob','Charlie'], 'Age':[25,30,35]} \n",
    "df = pd.DataFrame(data) \n",
    "print(\"\\nDataFrame:\\n\", df)"
   ]
  },
  {
   "cell_type": "markdown",
   "id": "827a2dfc",
   "metadata": {},
   "source": []
  },
  {
   "cell_type": "code",
   "execution_count": 6,
   "id": "21c8122b",
   "metadata": {},
   "outputs": [
    {
     "name": "stdout",
     "output_type": "stream",
     "text": [
      "      Name  Age Sex\n",
      "0    Alice   25   F\n",
      "1      Bob   30   M\n",
      "2  Charlie   35   M\n",
      "      Name  Age Sex\n",
      "0    Alice   25   F\n",
      "1      Bob   30   M\n",
      "2  Charlie   35   M\n",
      "<class 'pandas.core.frame.DataFrame'>\n",
      "RangeIndex: 3 entries, 0 to 2\n",
      "Data columns (total 3 columns):\n",
      " #   Column  Non-Null Count  Dtype \n",
      "---  ------  --------------  ----- \n",
      " 0   Name    3 non-null      object\n",
      " 1   Age     3 non-null      int64 \n",
      " 2   Sex     3 non-null      object\n",
      "dtypes: int64(1), object(2)\n",
      "memory usage: 204.0+ bytes\n",
      "None\n",
      "        Age\n",
      "count   3.0\n",
      "mean   30.0\n",
      "std     5.0\n",
      "min    25.0\n",
      "25%    27.5\n",
      "50%    30.0\n",
      "75%    32.5\n",
      "max    35.0\n",
      "(3, 3)\n"
     ]
    }
   ],
   "source": [
    "# 4. Reading & Exploring Data\n",
    "# Read CSV (replace with your file path)\n",
    "df = pd.read_csv(r\"C:\\Users\\Sreeja Reddy\\Downloads\\titanic.csv\")\n",
    "# Example DataFrame\n",
    "data = {'Name':['Alice','Bob','Charlie'],'Age':[25,30,35],'Sex':['F','M','M']}\n",
    "df = pd.DataFrame(data)\n",
    "# Explore\n",
    "print(df.head())\n",
    "print(df.tail())\n",
    "print(df.info())\n",
    "print(df.describe())\n",
    "print(df.shape)"
   ]
  },
  {
   "cell_type": "code",
   "execution_count": 7,
   "id": "17ea4b94",
   "metadata": {},
   "outputs": [
    {
     "name": "stdout",
     "output_type": "stream",
     "text": [
      "0      Alice\n",
      "1        Bob\n",
      "2    Charlie\n",
      "Name: Name, dtype: object\n",
      "      Name  Age\n",
      "0    Alice   25\n",
      "1      Bob   30\n",
      "2  Charlie   35\n",
      "Name    Alice\n",
      "Age        25\n",
      "Sex         F\n",
      "Name: 0, dtype: object\n",
      "Name    Alice\n",
      "Age        25\n",
      "Sex         F\n",
      "Name: 0, dtype: object\n",
      "    Name Sex\n",
      "0  Alice   F\n",
      "1    Bob   M\n"
     ]
    }
   ],
   "source": [
    "#5. Selecting Columns & Rows\n",
    "# Select column\n",
    "print(df['Name'])\n",
    " \n",
    "# Select multiple columns\n",
    "print(df[['Name','Age']])\n",
    " \n",
    "# Select row by index\n",
    "print(df.iloc[0])       # first row\n",
    "print(df.loc[0])        # first row using label\n",
    " \n",
    "# Select subset of rows and columns\n",
    "print(df.loc[0:1, ['Name','Sex']])\n",
    " \n",
    "\n",
    " "
   ]
  },
  {
   "cell_type": "code",
   "execution_count": 8,
   "id": "b5fb81c4",
   "metadata": {},
   "outputs": [
    {
     "name": "stdout",
     "output_type": "stream",
     "text": [
      "      Name  Age Sex\n",
      "1      Bob   30   M\n",
      "2  Charlie   35   M\n",
      "      Name  Age Sex\n",
      "2  Charlie   35   M\n",
      "1      Bob   30   M\n",
      "0    Alice   25   F\n"
     ]
    }
   ],
   "source": [
    "#6. Filtering & Sorting\n",
    "# Filter rows\n",
    "print(df[df['Age'] > 28])\n",
    " \n",
    "# Sort by Age\n",
    "print(df.sort_values('Age', ascending=False))"
   ]
  },
  {
   "cell_type": "code",
   "execution_count": 9,
   "id": "04833f00",
   "metadata": {},
   "outputs": [
    {
     "name": "stdout",
     "output_type": "stream",
     "text": [
      "      Name  Age Sex  Age_in_5yrs\n",
      "0    Alice   25   F           30\n",
      "1      Bob   30   M           35\n",
      "2  Charlie   35   M           40\n",
      "      Name  Age Sex\n",
      "0    Alice   25   F\n",
      "1      Bob   30   M\n",
      "2  Charlie   35   M\n"
     ]
    }
   ],
   "source": [
    "#7. Adding & Removing Columns\n",
    "# Add new column\n",
    "df['Age_in_5yrs'] = df['Age'] + 5\n",
    "print(df)\n",
    " \n",
    "# Drop column\n",
    "df = df.drop('Age_in_5yrs', axis=1)\n",
    "print(df)"
   ]
  },
  {
   "cell_type": "code",
   "execution_count": 10,
   "id": "6a95cfed",
   "metadata": {},
   "outputs": [
    {
     "name": "stdout",
     "output_type": "stream",
     "text": [
      "         Score\n",
      "Name          \n",
      "Alice     82.5\n",
      "Bob       80.0\n",
      "Charlie   95.0\n"
     ]
    }
   ],
   "source": [
    "#8. GroupBy & Aggregation\n",
    "data = {'Name':['Alice','Bob','Charlie','Alice','Bob'],\n",
    "        'Score':[85,90,95,80,70]}\n",
    "df = pd.DataFrame(data)\n",
    " \n",
    "# Group by Name and calculate mean score\n",
    "grouped = df.groupby('Name').mean()\n",
    "print(grouped)"
   ]
  },
  {
   "cell_type": "code",
   "execution_count": 11,
   "id": "1012ed2f",
   "metadata": {},
   "outputs": [
    {
     "name": "stdout",
     "output_type": "stream",
     "text": [
      "      Name        Age\n",
      "0    Alice  25.000000\n",
      "1      Bob  33.333333\n",
      "2  Charlie  35.000000\n",
      "3    David  40.000000\n"
     ]
    }
   ],
   "source": [
    "#9. Handling Missing Data\n",
    "data = {'Name':['Alice','Bob','Charlie','David'],\n",
    "        'Age':[25, None, 35, 40]}\n",
    "df = pd.DataFrame(data)\n",
    " \n",
    "# Fill missing value\n",
    "df['Age'] = df['Age'].fillna(df['Age'].mean())\n",
    "print(df)\n",
    " \n",
    "# Drop rows with missing values\n",
    "# df = df.dropna()"
   ]
  }
 ],
 "metadata": {
  "kernelspec": {
   "display_name": "base",
   "language": "python",
   "name": "python3"
  },
  "language_info": {
   "codemirror_mode": {
    "name": "ipython",
    "version": 3
   },
   "file_extension": ".py",
   "mimetype": "text/x-python",
   "name": "python",
   "nbconvert_exporter": "python",
   "pygments_lexer": "ipython3",
   "version": "3.13.5"
  }
 },
 "nbformat": 4,
 "nbformat_minor": 5
}
